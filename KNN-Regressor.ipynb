{
 "cells": [
  {
   "cell_type": "markdown",
   "id": "02efe1df",
   "metadata": {},
   "source": [
    "# KNN Regressor...."
   ]
  },
  {
   "cell_type": "markdown",
   "id": "ebf4e7cd",
   "metadata": {},
   "source": [
    "### Business Problem: Predicting the price of health insurance premium."
   ]
  },
  {
   "cell_type": "code",
   "execution_count": 1,
   "id": "ce9c991a",
   "metadata": {},
   "outputs": [],
   "source": [
    "import numpy as np\n",
    "import pandas as pd\n",
    "from matplotlib import pyplot as plt\n",
    "%matplotlib inline\n",
    "import seaborn as sns"
   ]
  },
  {
   "cell_type": "code",
   "execution_count": 5,
   "id": "cdec6f69",
   "metadata": {},
   "outputs": [],
   "source": [
    "data=pd.read_csv(r'C:\\Users\\c2c\\Desktop\\31st jan datascience batch\\Machine_Learning\\Linear_Regression\\insurance.csv')"
   ]
  },
  {
   "cell_type": "code",
   "execution_count": 6,
   "id": "3cb8b250",
   "metadata": {},
   "outputs": [
    {
     "data": {
      "text/html": [
       "<div>\n",
       "<style scoped>\n",
       "    .dataframe tbody tr th:only-of-type {\n",
       "        vertical-align: middle;\n",
       "    }\n",
       "\n",
       "    .dataframe tbody tr th {\n",
       "        vertical-align: top;\n",
       "    }\n",
       "\n",
       "    .dataframe thead th {\n",
       "        text-align: right;\n",
       "    }\n",
       "</style>\n",
       "<table border=\"1\" class=\"dataframe\">\n",
       "  <thead>\n",
       "    <tr style=\"text-align: right;\">\n",
       "      <th></th>\n",
       "      <th>age</th>\n",
       "      <th>sex</th>\n",
       "      <th>bmi</th>\n",
       "      <th>children</th>\n",
       "      <th>smoker</th>\n",
       "      <th>region</th>\n",
       "      <th>charges</th>\n",
       "    </tr>\n",
       "  </thead>\n",
       "  <tbody>\n",
       "    <tr>\n",
       "      <th>0</th>\n",
       "      <td>19</td>\n",
       "      <td>female</td>\n",
       "      <td>27.900</td>\n",
       "      <td>0</td>\n",
       "      <td>yes</td>\n",
       "      <td>southwest</td>\n",
       "      <td>16884.92400</td>\n",
       "    </tr>\n",
       "    <tr>\n",
       "      <th>1</th>\n",
       "      <td>18</td>\n",
       "      <td>male</td>\n",
       "      <td>33.770</td>\n",
       "      <td>1</td>\n",
       "      <td>no</td>\n",
       "      <td>southeast</td>\n",
       "      <td>1725.55230</td>\n",
       "    </tr>\n",
       "    <tr>\n",
       "      <th>2</th>\n",
       "      <td>28</td>\n",
       "      <td>male</td>\n",
       "      <td>33.000</td>\n",
       "      <td>3</td>\n",
       "      <td>no</td>\n",
       "      <td>southeast</td>\n",
       "      <td>4449.46200</td>\n",
       "    </tr>\n",
       "    <tr>\n",
       "      <th>3</th>\n",
       "      <td>33</td>\n",
       "      <td>male</td>\n",
       "      <td>22.705</td>\n",
       "      <td>0</td>\n",
       "      <td>no</td>\n",
       "      <td>northwest</td>\n",
       "      <td>21984.47061</td>\n",
       "    </tr>\n",
       "    <tr>\n",
       "      <th>4</th>\n",
       "      <td>32</td>\n",
       "      <td>male</td>\n",
       "      <td>28.880</td>\n",
       "      <td>0</td>\n",
       "      <td>no</td>\n",
       "      <td>northwest</td>\n",
       "      <td>3866.85520</td>\n",
       "    </tr>\n",
       "  </tbody>\n",
       "</table>\n",
       "</div>"
      ],
      "text/plain": [
       "   age     sex     bmi  children smoker     region      charges\n",
       "0   19  female  27.900         0    yes  southwest  16884.92400\n",
       "1   18    male  33.770         1     no  southeast   1725.55230\n",
       "2   28    male  33.000         3     no  southeast   4449.46200\n",
       "3   33    male  22.705         0     no  northwest  21984.47061\n",
       "4   32    male  28.880         0     no  northwest   3866.85520"
      ]
     },
     "execution_count": 6,
     "metadata": {},
     "output_type": "execute_result"
    }
   ],
   "source": [
    "data.head()"
   ]
  },
  {
   "cell_type": "markdown",
   "id": "570a66f5",
   "metadata": {},
   "source": [
    "# Data Preprocessing:"
   ]
  },
  {
   "cell_type": "code",
   "execution_count": 7,
   "id": "72822e66",
   "metadata": {},
   "outputs": [
    {
     "data": {
      "text/plain": [
       "age         0\n",
       "sex         0\n",
       "bmi         0\n",
       "children    0\n",
       "smoker      0\n",
       "region      0\n",
       "charges     0\n",
       "dtype: int64"
      ]
     },
     "execution_count": 7,
     "metadata": {},
     "output_type": "execute_result"
    }
   ],
   "source": [
    "data.isnull().sum()"
   ]
  },
  {
   "cell_type": "markdown",
   "id": "a9597c4d",
   "metadata": {},
   "source": [
    "# Handling categorical data:\n",
    "* one-hot encoding and dummies"
   ]
  },
  {
   "cell_type": "code",
   "execution_count": 8,
   "id": "0b51eba8",
   "metadata": {},
   "outputs": [],
   "source": [
    "data.loc[data[\"sex\"]==\"male\",\"sex\"]=0  # becoz male are paying less charges.\n",
    "data.loc[data[\"sex\"]==\"female\",\"sex\"]=1 # becoz female paying more charges"
   ]
  },
  {
   "cell_type": "code",
   "execution_count": 9,
   "id": "8add695d",
   "metadata": {},
   "outputs": [],
   "source": [
    "data.loc[data['region']==\"southeast\",\"region\"]=3   # 3 becoz southeast region customers paying more charges.\n",
    "data.loc[data['region']==\"northeast\",\"region\"]=2   # becoz lesser than southeast region.\n",
    "data.loc[data['region']==\"southwest\",\"region\"]=1   # by combining the data we can reduce the no. of labels also.\n",
    "data.loc[data['region']==\"northwest\",\"region\"]=1   #Both the southwest and northwest paying same charges."
   ]
  },
  {
   "cell_type": "code",
   "execution_count": 10,
   "id": "e413cf1f",
   "metadata": {},
   "outputs": [],
   "source": [
    "data2=pd.get_dummies(data[\"smoker\"],prefix=\"smoker\",drop_first=True)\n",
    "data=pd.concat([data,data2],axis=1).drop([\"smoker\"],axis=1)"
   ]
  },
  {
   "cell_type": "code",
   "execution_count": 11,
   "id": "24c2c9ae",
   "metadata": {},
   "outputs": [],
   "source": [
    "data3=pd.get_dummies(data[\"sex\"],prefix=\"sex\",drop_first=True)\n",
    "data=pd.concat([data,data3],axis=1).drop([\"sex\"],axis=1)"
   ]
  },
  {
   "cell_type": "markdown",
   "id": "e2b6db19",
   "metadata": {},
   "source": [
    "# Feature Selection:"
   ]
  },
  {
   "cell_type": "code",
   "execution_count": 12,
   "id": "c10f23a0",
   "metadata": {},
   "outputs": [
    {
     "data": {
      "image/png": "[encoded data removed]",
      "text/plain": [
       "<Figure size 360x360 with 2 Axes>"
      ]
     },
     "metadata": {
      "needs_background": "light"
     },
     "output_type": "display_data"
    }
   ],
   "source": [
    "required_features_data=data[[\"age\",\"bmi\",\"children\"]]\n",
    "plt.figure(figsize=(5,5))\n",
    "sns.heatmap(required_features_data.corr(),annot=True) # cmap=\"cool\" (color) , annot=notation marking of numbes on the graph.\n",
    "plt.show()"
   ]
  },
  {
   "cell_type": "markdown",
   "id": "62e5e419",
   "metadata": {},
   "source": [
    "# Model Creation:"
   ]
  },
  {
   "cell_type": "markdown",
   "id": "eb157f85",
   "metadata": {},
   "source": [
    "* Split x and y"
   ]
  },
  {
   "cell_type": "code",
   "execution_count": 15,
   "id": "f34a9f68",
   "metadata": {},
   "outputs": [],
   "source": [
    "x=data.drop(columns= ['charges'],axis=1)\n",
    "y=data['charges']"
   ]
  },
  {
   "cell_type": "markdown",
   "id": "f08fa6b6",
   "metadata": {},
   "source": [
    "* Scaling the data"
   ]
  },
  {
   "cell_type": "code",
   "execution_count": 16,
   "id": "d90fd682",
   "metadata": {},
   "outputs": [],
   "source": [
    "from sklearn.preprocessing import StandardScaler\n",
    "\n",
    "scaler_object = StandardScaler()\n",
    "x_scaled = scaler_object.fit_transform(x)"
   ]
  },
  {
   "cell_type": "markdown",
   "id": "519d6bf9",
   "metadata": {},
   "source": [
    "* Splitting the data into training and testing"
   ]
  },
  {
   "cell_type": "code",
   "execution_count": 17,
   "id": "ab595579",
   "metadata": {},
   "outputs": [],
   "source": [
    "from sklearn.model_selection import train_test_split\n",
    "\n",
    "x_train,x_test,y_train,y_test = train_test_split(x_scaled,y,test_size=0.2,random_state=42)"
   ]
  },
  {
   "cell_type": "markdown",
   "id": "04e54067",
   "metadata": {},
   "source": [
    "### Determine optimal k (n_neighbors)"
   ]
  },
  {
   "cell_type": "code",
   "execution_count": 19,
   "id": "0491b6e8",
   "metadata": {},
   "outputs": [
    {
     "name": "stdout",
     "output_type": "stream",
     "text": [
      "Root mean squared error for k= 1 is:= 6776.953933836941\n",
      "Root mean squared error for k= 2 is:= 5511.325668716264\n",
      "Root mean squared error for k= 3 is:= 5189.771940002199\n",
      "Root mean squared error for k= 4 is:= 4910.691395878197\n",
      "Root mean squared error for k= 5 is:= 4989.099103337984\n",
      "Root mean squared error for k= 6 is:= 4985.624369387288\n",
      "Root mean squared error for k= 7 is:= 4961.711724218073\n",
      "Root mean squared error for k= 8 is:= 5013.482977140783\n",
      "Root mean squared error for k= 9 is:= 5128.469672780342\n",
      "Root mean squared error for k= 10 is:= 5095.371655730205\n",
      "Root mean squared error for k= 11 is:= 5089.44246345754\n",
      "Root mean squared error for k= 12 is:= 5025.6054387283675\n",
      "Root mean squared error for k= 13 is:= 5045.88309477079\n",
      "Root mean squared error for k= 14 is:= 5057.848219441484\n",
      "Root mean squared error for k= 15 is:= 5109.518993895791\n",
      "Root mean squared error for k= 16 is:= 5130.132843915038\n",
      "Root mean squared error for k= 17 is:= 5103.9901837511115\n",
      "Root mean squared error for k= 18 is:= 5089.786850855333\n",
      "Root mean squared error for k= 19 is:= 5106.073803340979\n"
     ]
    }
   ],
   "source": [
    "from sklearn.neighbors import KNeighborsRegressor\n",
    "from sklearn.metrics import mean_squared_error\n",
    "\n",
    "rmse_value = []\n",
    "\n",
    "for k in range(1,20):\n",
    "    knn_regressor_model = KNeighborsRegressor(n_neighbors = k)\n",
    "    knn_regressor_model.fit(x_train,y_train)\n",
    "    y_pred= knn_regressor_model.predict(x_test)\n",
    "    \n",
    "    error= np.sqrt(mean_squared_error(y_test,y_pred))\n",
    "    \n",
    "    rmse_value.append(error)\n",
    "    print('Root mean squared error for k=',k,'is:=',error)"
   ]
  },
  {
   "cell_type": "code",
   "execution_count": 20,
   "id": "0bbf59d7",
   "metadata": {},
   "outputs": [
    {
     "data": {
      "text/plain": [
       "[<matplotlib.lines.Line2D at 0x23225fa8550>]"
      ]
     },
     "execution_count": 20,
     "metadata": {},
     "output_type": "execute_result"
    },
    {
     "data": {
      "image/png": "[encoded data removed]",
      "text/plain": [
       "<Figure size 432x288 with 1 Axes>"
      ]
     },
     "metadata": {
      "needs_background": "light"
     },
     "output_type": "display_data"
    }
   ],
   "source": [
    "plt.plot(range(1,20),rmse_value)"
   ]
  },
  {
   "cell_type": "code",
   "execution_count": 23,
   "id": "9c2d0656",
   "metadata": {},
   "outputs": [],
   "source": [
    "Knn_regressor_actual_model = KNeighborsRegressor(n_neighbors=7)"
   ]
  },
  {
   "cell_type": "code",
   "execution_count": 25,
   "id": "6f224f06",
   "metadata": {},
   "outputs": [
    {
     "data": {
      "text/plain": [
       "KNeighborsRegressor(n_neighbors=7)"
      ]
     },
     "execution_count": 25,
     "metadata": {},
     "output_type": "execute_result"
    }
   ],
   "source": [
    "Knn_regressor_actual_model.fit(x_train,y_train)"
   ]
  },
  {
   "cell_type": "code",
   "execution_count": 27,
   "id": "43998163",
   "metadata": {},
   "outputs": [],
   "source": [
    "y_predict = Knn_regressor_actual_model.predict(x_test)"
   ]
  },
  {
   "cell_type": "markdown",
   "id": "e8840574",
   "metadata": {},
   "source": [
    "# Evaluation :"
   ]
  },
  {
   "cell_type": "code",
   "execution_count": 28,
   "id": "6131c183",
   "metadata": {},
   "outputs": [],
   "source": [
    "from sklearn.metrics import r2_score"
   ]
  },
  {
   "cell_type": "code",
   "execution_count": 29,
   "id": "be97b330",
   "metadata": {},
   "outputs": [],
   "source": [
    "r2_score_of_model = r2_score(y_test,y_predict)"
   ]
  },
  {
   "cell_type": "code",
   "execution_count": 30,
   "id": "9287e1cc",
   "metadata": {},
   "outputs": [
    {
     "data": {
      "text/plain": [
       "0.8414248992717367"
      ]
     },
     "execution_count": 30,
     "metadata": {},
     "output_type": "execute_result"
    }
   ],
   "source": [
    "r2_score_of_model"
   ]
  },
  {
   "cell_type": "markdown",
   "id": "2940503f",
   "metadata": {},
   "source": [
    "### Calculating adjusted_r2_score :"
   ]
  },
  {
   "cell_type": "code",
   "execution_count": 31,
   "id": "4b2a43fb",
   "metadata": {},
   "outputs": [
    {
     "data": {
      "text/plain": [
       "(1070, 6)"
      ]
     },
     "execution_count": 31,
     "metadata": {},
     "output_type": "execute_result"
    }
   ],
   "source": [
    "x_train.shape"
   ]
  },
  {
   "cell_type": "code",
   "execution_count": 34,
   "id": "98fd9953",
   "metadata": {},
   "outputs": [],
   "source": [
    "# formula for adjusted_r2_score =  1-(1-r2_score)*(observations - 1)/(observations-columns-1)"
   ]
  },
  {
   "cell_type": "code",
   "execution_count": 35,
   "id": "9ae8d59f",
   "metadata": {},
   "outputs": [
    {
     "data": {
      "text/plain": [
       "0.8390968955785513"
      ]
     },
     "execution_count": 35,
     "metadata": {},
     "output_type": "execute_result"
    }
   ],
   "source": [
    "adjusted_r2_score = 1-(1-0.84)*(1070-1)/(1070-6-1)\n",
    "adjusted_r2_score"
   ]
  },
  {
   "cell_type": "markdown",
   "id": "e599218d",
   "metadata": {},
   "source": [
    "### Calculating mean_squared_error & mean_absolute_error:"
   ]
  },
  {
   "cell_type": "code",
   "execution_count": 36,
   "id": "0ffd1312",
   "metadata": {},
   "outputs": [],
   "source": [
    "from sklearn.metrics import mean_absolute_error, mean_squared_error"
   ]
  },
  {
   "cell_type": "code",
   "execution_count": 37,
   "id": "520a1351",
   "metadata": {},
   "outputs": [
    {
     "data": {
      "text/plain": [
       "4961.711724218073"
      ]
     },
     "execution_count": 37,
     "metadata": {},
     "output_type": "execute_result"
    }
   ],
   "source": [
    "np.sqrt(mean_squared_error(y_test,y_predict))"
   ]
  },
  {
   "cell_type": "code",
   "execution_count": 38,
   "id": "f0782dda",
   "metadata": {},
   "outputs": [
    {
     "data": {
      "text/plain": [
       "3046.6110021071427"
      ]
     },
     "execution_count": 38,
     "metadata": {},
     "output_type": "execute_result"
    }
   ],
   "source": [
    "mean_absolute_error(y_test,y_predict)"
   ]
  },
  {
   "cell_type": "code",
   "execution_count": null,
   "id": "0f1d3756",
   "metadata": {},
   "outputs": [],
   "source": []
  }
 ],
 "metadata": {
  "kernelspec": {
   "display_name": "Python 3",
   "language": "python",
   "name": "python3"
  },
  "language_info": {
   "codemirror_mode": {
    "name": "ipython",
    "version": 3
   },
   "file_extension": ".py",
   "mimetype": "text/x-python",
   "name": "python",
   "nbconvert_exporter": "python",
   "pygments_lexer": "ipython3",
   "version": "3.8.8"
  }
 },
 "nbformat": 4,
 "nbformat_minor": 5
}
